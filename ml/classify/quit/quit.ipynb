{
 "cells": [
  {
   "cell_type": "code",
   "execution_count": 1,
   "metadata": {},
   "outputs": [],
   "source": [
    "import pandas as pd\n",
    "import seaborn as sns\n",
    "import matplotlib.pyplot as plt\n",
    "import numpy as np\n",
    "import warnings\n",
    "warnings.filterwarnings('ignore')\n",
    "%matplotlib inline\n",
    "sns.set(rc = {\"figure.figsize\":(10,8)}) \n",
    "sns.set(font_scale=1.25)"
   ]
  },
  {
   "cell_type": "code",
   "execution_count": 2,
   "metadata": {},
   "outputs": [
    {
     "data": {
      "text/html": [
       "<div>\n",
       "<style scoped>\n",
       "    .dataframe tbody tr th:only-of-type {\n",
       "        vertical-align: middle;\n",
       "    }\n",
       "\n",
       "    .dataframe tbody tr th {\n",
       "        vertical-align: top;\n",
       "    }\n",
       "\n",
       "    .dataframe thead th {\n",
       "        text-align: right;\n",
       "    }\n",
       "</style>\n",
       "<table border=\"1\" class=\"dataframe\">\n",
       "  <thead>\n",
       "    <tr style=\"text-align: right;\">\n",
       "      <th></th>\n",
       "      <th>Age</th>\n",
       "      <th>Attrition</th>\n",
       "      <th>BusinessTravel</th>\n",
       "      <th>Department</th>\n",
       "      <th>DistanceFromHome</th>\n",
       "      <th>Education</th>\n",
       "      <th>EducationField</th>\n",
       "      <th>EmployeeNumber</th>\n",
       "      <th>EnvironmentSatisfaction</th>\n",
       "      <th>Gender</th>\n",
       "      <th>...</th>\n",
       "      <th>RelationshipSatisfaction</th>\n",
       "      <th>StandardHours</th>\n",
       "      <th>StockOptionLevel</th>\n",
       "      <th>TotalWorkingYears</th>\n",
       "      <th>TrainingTimesLastYear</th>\n",
       "      <th>WorkLifeBalance</th>\n",
       "      <th>YearsAtCompany</th>\n",
       "      <th>YearsInCurrentRole</th>\n",
       "      <th>YearsSinceLastPromotion</th>\n",
       "      <th>YearsWithCurrManager</th>\n",
       "    </tr>\n",
       "  </thead>\n",
       "  <tbody>\n",
       "    <tr>\n",
       "      <th>0</th>\n",
       "      <td>37</td>\n",
       "      <td>0</td>\n",
       "      <td>Travel_Rarely</td>\n",
       "      <td>Research &amp; Development</td>\n",
       "      <td>1</td>\n",
       "      <td>4</td>\n",
       "      <td>Life Sciences</td>\n",
       "      <td>77</td>\n",
       "      <td>1</td>\n",
       "      <td>Male</td>\n",
       "      <td>...</td>\n",
       "      <td>3</td>\n",
       "      <td>80</td>\n",
       "      <td>1</td>\n",
       "      <td>7</td>\n",
       "      <td>2</td>\n",
       "      <td>4</td>\n",
       "      <td>7</td>\n",
       "      <td>5</td>\n",
       "      <td>0</td>\n",
       "      <td>7</td>\n",
       "    </tr>\n",
       "    <tr>\n",
       "      <th>1</th>\n",
       "      <td>54</td>\n",
       "      <td>0</td>\n",
       "      <td>Travel_Frequently</td>\n",
       "      <td>Research &amp; Development</td>\n",
       "      <td>1</td>\n",
       "      <td>4</td>\n",
       "      <td>Life Sciences</td>\n",
       "      <td>1245</td>\n",
       "      <td>4</td>\n",
       "      <td>Female</td>\n",
       "      <td>...</td>\n",
       "      <td>1</td>\n",
       "      <td>80</td>\n",
       "      <td>1</td>\n",
       "      <td>33</td>\n",
       "      <td>2</td>\n",
       "      <td>1</td>\n",
       "      <td>5</td>\n",
       "      <td>4</td>\n",
       "      <td>1</td>\n",
       "      <td>4</td>\n",
       "    </tr>\n",
       "    <tr>\n",
       "      <th>2</th>\n",
       "      <td>34</td>\n",
       "      <td>1</td>\n",
       "      <td>Travel_Frequently</td>\n",
       "      <td>Research &amp; Development</td>\n",
       "      <td>7</td>\n",
       "      <td>3</td>\n",
       "      <td>Life Sciences</td>\n",
       "      <td>147</td>\n",
       "      <td>1</td>\n",
       "      <td>Male</td>\n",
       "      <td>...</td>\n",
       "      <td>4</td>\n",
       "      <td>80</td>\n",
       "      <td>0</td>\n",
       "      <td>9</td>\n",
       "      <td>3</td>\n",
       "      <td>3</td>\n",
       "      <td>9</td>\n",
       "      <td>7</td>\n",
       "      <td>0</td>\n",
       "      <td>6</td>\n",
       "    </tr>\n",
       "    <tr>\n",
       "      <th>3</th>\n",
       "      <td>39</td>\n",
       "      <td>0</td>\n",
       "      <td>Travel_Rarely</td>\n",
       "      <td>Research &amp; Development</td>\n",
       "      <td>1</td>\n",
       "      <td>1</td>\n",
       "      <td>Life Sciences</td>\n",
       "      <td>1026</td>\n",
       "      <td>4</td>\n",
       "      <td>Female</td>\n",
       "      <td>...</td>\n",
       "      <td>3</td>\n",
       "      <td>80</td>\n",
       "      <td>1</td>\n",
       "      <td>21</td>\n",
       "      <td>3</td>\n",
       "      <td>3</td>\n",
       "      <td>21</td>\n",
       "      <td>6</td>\n",
       "      <td>11</td>\n",
       "      <td>8</td>\n",
       "    </tr>\n",
       "    <tr>\n",
       "      <th>4</th>\n",
       "      <td>28</td>\n",
       "      <td>1</td>\n",
       "      <td>Travel_Frequently</td>\n",
       "      <td>Research &amp; Development</td>\n",
       "      <td>1</td>\n",
       "      <td>3</td>\n",
       "      <td>Medical</td>\n",
       "      <td>1111</td>\n",
       "      <td>1</td>\n",
       "      <td>Male</td>\n",
       "      <td>...</td>\n",
       "      <td>1</td>\n",
       "      <td>80</td>\n",
       "      <td>2</td>\n",
       "      <td>1</td>\n",
       "      <td>2</td>\n",
       "      <td>3</td>\n",
       "      <td>1</td>\n",
       "      <td>0</td>\n",
       "      <td>0</td>\n",
       "      <td>0</td>\n",
       "    </tr>\n",
       "  </tbody>\n",
       "</table>\n",
       "<p>5 rows × 31 columns</p>\n",
       "</div>"
      ],
      "text/plain": [
       "   Age  Attrition     BusinessTravel              Department  \\\n",
       "0   37          0      Travel_Rarely  Research & Development   \n",
       "1   54          0  Travel_Frequently  Research & Development   \n",
       "2   34          1  Travel_Frequently  Research & Development   \n",
       "3   39          0      Travel_Rarely  Research & Development   \n",
       "4   28          1  Travel_Frequently  Research & Development   \n",
       "\n",
       "   DistanceFromHome  Education EducationField  EmployeeNumber  \\\n",
       "0                 1          4  Life Sciences              77   \n",
       "1                 1          4  Life Sciences            1245   \n",
       "2                 7          3  Life Sciences             147   \n",
       "3                 1          1  Life Sciences            1026   \n",
       "4                 1          3        Medical            1111   \n",
       "\n",
       "   EnvironmentSatisfaction  Gender          ...           \\\n",
       "0                        1    Male          ...            \n",
       "1                        4  Female          ...            \n",
       "2                        1    Male          ...            \n",
       "3                        4  Female          ...            \n",
       "4                        1    Male          ...            \n",
       "\n",
       "   RelationshipSatisfaction  StandardHours StockOptionLevel  \\\n",
       "0                         3             80                1   \n",
       "1                         1             80                1   \n",
       "2                         4             80                0   \n",
       "3                         3             80                1   \n",
       "4                         1             80                2   \n",
       "\n",
       "   TotalWorkingYears TrainingTimesLastYear  WorkLifeBalance  YearsAtCompany  \\\n",
       "0                  7                     2                4               7   \n",
       "1                 33                     2                1               5   \n",
       "2                  9                     3                3               9   \n",
       "3                 21                     3                3              21   \n",
       "4                  1                     2                3               1   \n",
       "\n",
       "  YearsInCurrentRole YearsSinceLastPromotion  YearsWithCurrManager  \n",
       "0                  5                       0                     7  \n",
       "1                  4                       1                     4  \n",
       "2                  7                       0                     6  \n",
       "3                  6                      11                     8  \n",
       "4                  0                       0                     0  \n",
       "\n",
       "[5 rows x 31 columns]"
      ]
     },
     "execution_count": 2,
     "metadata": {},
     "output_type": "execute_result"
    }
   ],
   "source": [
    "train_data =pd.read_csv('pfm_train.csv')\n",
    "test_data =pd.read_csv('pfm_test.csv')\n",
    "train_data.head()"
   ]
  },
  {
   "cell_type": "code",
   "execution_count": 3,
   "metadata": {},
   "outputs": [
    {
     "data": {
      "text/html": [
       "<div>\n",
       "<style scoped>\n",
       "    .dataframe tbody tr th:only-of-type {\n",
       "        vertical-align: middle;\n",
       "    }\n",
       "\n",
       "    .dataframe tbody tr th {\n",
       "        vertical-align: top;\n",
       "    }\n",
       "\n",
       "    .dataframe thead th {\n",
       "        text-align: right;\n",
       "    }\n",
       "</style>\n",
       "<table border=\"1\" class=\"dataframe\">\n",
       "  <thead>\n",
       "    <tr style=\"text-align: right;\">\n",
       "      <th></th>\n",
       "      <th>Age</th>\n",
       "      <th>Attrition</th>\n",
       "      <th>DistanceFromHome</th>\n",
       "      <th>Education</th>\n",
       "      <th>EmployeeNumber</th>\n",
       "      <th>EnvironmentSatisfaction</th>\n",
       "      <th>JobInvolvement</th>\n",
       "      <th>JobLevel</th>\n",
       "      <th>JobSatisfaction</th>\n",
       "      <th>MonthlyIncome</th>\n",
       "      <th>...</th>\n",
       "      <th>RelationshipSatisfaction</th>\n",
       "      <th>StandardHours</th>\n",
       "      <th>StockOptionLevel</th>\n",
       "      <th>TotalWorkingYears</th>\n",
       "      <th>TrainingTimesLastYear</th>\n",
       "      <th>WorkLifeBalance</th>\n",
       "      <th>YearsAtCompany</th>\n",
       "      <th>YearsInCurrentRole</th>\n",
       "      <th>YearsSinceLastPromotion</th>\n",
       "      <th>YearsWithCurrManager</th>\n",
       "    </tr>\n",
       "  </thead>\n",
       "  <tbody>\n",
       "    <tr>\n",
       "      <th>count</th>\n",
       "      <td>1100.000000</td>\n",
       "      <td>1100.000000</td>\n",
       "      <td>1100.000000</td>\n",
       "      <td>1100.000000</td>\n",
       "      <td>1100.000000</td>\n",
       "      <td>1100.000000</td>\n",
       "      <td>1100.000000</td>\n",
       "      <td>1100.000000</td>\n",
       "      <td>1100.000000</td>\n",
       "      <td>1100.000000</td>\n",
       "      <td>...</td>\n",
       "      <td>1100.000000</td>\n",
       "      <td>1100.0</td>\n",
       "      <td>1100.000000</td>\n",
       "      <td>1100.000000</td>\n",
       "      <td>1100.000000</td>\n",
       "      <td>1100.000000</td>\n",
       "      <td>1100.000000</td>\n",
       "      <td>1100.000000</td>\n",
       "      <td>1100.000000</td>\n",
       "      <td>1100.000000</td>\n",
       "    </tr>\n",
       "    <tr>\n",
       "      <th>mean</th>\n",
       "      <td>36.999091</td>\n",
       "      <td>0.161818</td>\n",
       "      <td>9.427273</td>\n",
       "      <td>2.922727</td>\n",
       "      <td>1028.157273</td>\n",
       "      <td>2.725455</td>\n",
       "      <td>2.730909</td>\n",
       "      <td>2.054545</td>\n",
       "      <td>2.732727</td>\n",
       "      <td>6483.620909</td>\n",
       "      <td>...</td>\n",
       "      <td>2.696364</td>\n",
       "      <td>80.0</td>\n",
       "      <td>0.788182</td>\n",
       "      <td>11.221818</td>\n",
       "      <td>2.807273</td>\n",
       "      <td>2.746364</td>\n",
       "      <td>7.011818</td>\n",
       "      <td>4.207273</td>\n",
       "      <td>2.226364</td>\n",
       "      <td>4.123636</td>\n",
       "    </tr>\n",
       "    <tr>\n",
       "      <th>std</th>\n",
       "      <td>9.037230</td>\n",
       "      <td>0.368451</td>\n",
       "      <td>8.196694</td>\n",
       "      <td>1.022242</td>\n",
       "      <td>598.915204</td>\n",
       "      <td>1.098053</td>\n",
       "      <td>0.706366</td>\n",
       "      <td>1.107805</td>\n",
       "      <td>1.109731</td>\n",
       "      <td>4715.293419</td>\n",
       "      <td>...</td>\n",
       "      <td>1.095356</td>\n",
       "      <td>0.0</td>\n",
       "      <td>0.843347</td>\n",
       "      <td>7.825548</td>\n",
       "      <td>1.291514</td>\n",
       "      <td>0.701121</td>\n",
       "      <td>6.223093</td>\n",
       "      <td>3.618115</td>\n",
       "      <td>3.313830</td>\n",
       "      <td>3.597996</td>\n",
       "    </tr>\n",
       "    <tr>\n",
       "      <th>min</th>\n",
       "      <td>18.000000</td>\n",
       "      <td>0.000000</td>\n",
       "      <td>1.000000</td>\n",
       "      <td>1.000000</td>\n",
       "      <td>1.000000</td>\n",
       "      <td>1.000000</td>\n",
       "      <td>1.000000</td>\n",
       "      <td>1.000000</td>\n",
       "      <td>1.000000</td>\n",
       "      <td>1009.000000</td>\n",
       "      <td>...</td>\n",
       "      <td>1.000000</td>\n",
       "      <td>80.0</td>\n",
       "      <td>0.000000</td>\n",
       "      <td>0.000000</td>\n",
       "      <td>0.000000</td>\n",
       "      <td>1.000000</td>\n",
       "      <td>0.000000</td>\n",
       "      <td>0.000000</td>\n",
       "      <td>0.000000</td>\n",
       "      <td>0.000000</td>\n",
       "    </tr>\n",
       "    <tr>\n",
       "      <th>25%</th>\n",
       "      <td>30.000000</td>\n",
       "      <td>0.000000</td>\n",
       "      <td>2.000000</td>\n",
       "      <td>2.000000</td>\n",
       "      <td>504.250000</td>\n",
       "      <td>2.000000</td>\n",
       "      <td>2.000000</td>\n",
       "      <td>1.000000</td>\n",
       "      <td>2.000000</td>\n",
       "      <td>2924.500000</td>\n",
       "      <td>...</td>\n",
       "      <td>2.000000</td>\n",
       "      <td>80.0</td>\n",
       "      <td>0.000000</td>\n",
       "      <td>6.000000</td>\n",
       "      <td>2.000000</td>\n",
       "      <td>2.000000</td>\n",
       "      <td>3.000000</td>\n",
       "      <td>2.000000</td>\n",
       "      <td>0.000000</td>\n",
       "      <td>2.000000</td>\n",
       "    </tr>\n",
       "    <tr>\n",
       "      <th>50%</th>\n",
       "      <td>36.000000</td>\n",
       "      <td>0.000000</td>\n",
       "      <td>7.000000</td>\n",
       "      <td>3.000000</td>\n",
       "      <td>1026.500000</td>\n",
       "      <td>3.000000</td>\n",
       "      <td>3.000000</td>\n",
       "      <td>2.000000</td>\n",
       "      <td>3.000000</td>\n",
       "      <td>4857.000000</td>\n",
       "      <td>...</td>\n",
       "      <td>3.000000</td>\n",
       "      <td>80.0</td>\n",
       "      <td>1.000000</td>\n",
       "      <td>10.000000</td>\n",
       "      <td>3.000000</td>\n",
       "      <td>3.000000</td>\n",
       "      <td>5.000000</td>\n",
       "      <td>3.000000</td>\n",
       "      <td>1.000000</td>\n",
       "      <td>3.000000</td>\n",
       "    </tr>\n",
       "    <tr>\n",
       "      <th>75%</th>\n",
       "      <td>43.000000</td>\n",
       "      <td>0.000000</td>\n",
       "      <td>15.000000</td>\n",
       "      <td>4.000000</td>\n",
       "      <td>1556.500000</td>\n",
       "      <td>4.000000</td>\n",
       "      <td>3.000000</td>\n",
       "      <td>3.000000</td>\n",
       "      <td>4.000000</td>\n",
       "      <td>8354.500000</td>\n",
       "      <td>...</td>\n",
       "      <td>4.000000</td>\n",
       "      <td>80.0</td>\n",
       "      <td>1.000000</td>\n",
       "      <td>15.000000</td>\n",
       "      <td>3.000000</td>\n",
       "      <td>3.000000</td>\n",
       "      <td>9.000000</td>\n",
       "      <td>7.000000</td>\n",
       "      <td>3.000000</td>\n",
       "      <td>7.000000</td>\n",
       "    </tr>\n",
       "    <tr>\n",
       "      <th>max</th>\n",
       "      <td>60.000000</td>\n",
       "      <td>1.000000</td>\n",
       "      <td>29.000000</td>\n",
       "      <td>5.000000</td>\n",
       "      <td>2065.000000</td>\n",
       "      <td>4.000000</td>\n",
       "      <td>4.000000</td>\n",
       "      <td>5.000000</td>\n",
       "      <td>4.000000</td>\n",
       "      <td>19999.000000</td>\n",
       "      <td>...</td>\n",
       "      <td>4.000000</td>\n",
       "      <td>80.0</td>\n",
       "      <td>3.000000</td>\n",
       "      <td>40.000000</td>\n",
       "      <td>6.000000</td>\n",
       "      <td>4.000000</td>\n",
       "      <td>37.000000</td>\n",
       "      <td>18.000000</td>\n",
       "      <td>15.000000</td>\n",
       "      <td>17.000000</td>\n",
       "    </tr>\n",
       "  </tbody>\n",
       "</table>\n",
       "<p>8 rows × 23 columns</p>\n",
       "</div>"
      ],
      "text/plain": [
       "               Age    Attrition  DistanceFromHome    Education  \\\n",
       "count  1100.000000  1100.000000       1100.000000  1100.000000   \n",
       "mean     36.999091     0.161818          9.427273     2.922727   \n",
       "std       9.037230     0.368451          8.196694     1.022242   \n",
       "min      18.000000     0.000000          1.000000     1.000000   \n",
       "25%      30.000000     0.000000          2.000000     2.000000   \n",
       "50%      36.000000     0.000000          7.000000     3.000000   \n",
       "75%      43.000000     0.000000         15.000000     4.000000   \n",
       "max      60.000000     1.000000         29.000000     5.000000   \n",
       "\n",
       "       EmployeeNumber  EnvironmentSatisfaction  JobInvolvement     JobLevel  \\\n",
       "count     1100.000000              1100.000000     1100.000000  1100.000000   \n",
       "mean      1028.157273                 2.725455        2.730909     2.054545   \n",
       "std        598.915204                 1.098053        0.706366     1.107805   \n",
       "min          1.000000                 1.000000        1.000000     1.000000   \n",
       "25%        504.250000                 2.000000        2.000000     1.000000   \n",
       "50%       1026.500000                 3.000000        3.000000     2.000000   \n",
       "75%       1556.500000                 4.000000        3.000000     3.000000   \n",
       "max       2065.000000                 4.000000        4.000000     5.000000   \n",
       "\n",
       "       JobSatisfaction  MonthlyIncome          ...           \\\n",
       "count      1100.000000    1100.000000          ...            \n",
       "mean          2.732727    6483.620909          ...            \n",
       "std           1.109731    4715.293419          ...            \n",
       "min           1.000000    1009.000000          ...            \n",
       "25%           2.000000    2924.500000          ...            \n",
       "50%           3.000000    4857.000000          ...            \n",
       "75%           4.000000    8354.500000          ...            \n",
       "max           4.000000   19999.000000          ...            \n",
       "\n",
       "       RelationshipSatisfaction  StandardHours  StockOptionLevel  \\\n",
       "count               1100.000000         1100.0       1100.000000   \n",
       "mean                   2.696364           80.0          0.788182   \n",
       "std                    1.095356            0.0          0.843347   \n",
       "min                    1.000000           80.0          0.000000   \n",
       "25%                    2.000000           80.0          0.000000   \n",
       "50%                    3.000000           80.0          1.000000   \n",
       "75%                    4.000000           80.0          1.000000   \n",
       "max                    4.000000           80.0          3.000000   \n",
       "\n",
       "       TotalWorkingYears  TrainingTimesLastYear  WorkLifeBalance  \\\n",
       "count        1100.000000            1100.000000      1100.000000   \n",
       "mean           11.221818               2.807273         2.746364   \n",
       "std             7.825548               1.291514         0.701121   \n",
       "min             0.000000               0.000000         1.000000   \n",
       "25%             6.000000               2.000000         2.000000   \n",
       "50%            10.000000               3.000000         3.000000   \n",
       "75%            15.000000               3.000000         3.000000   \n",
       "max            40.000000               6.000000         4.000000   \n",
       "\n",
       "       YearsAtCompany  YearsInCurrentRole  YearsSinceLastPromotion  \\\n",
       "count     1100.000000         1100.000000              1100.000000   \n",
       "mean         7.011818            4.207273                 2.226364   \n",
       "std          6.223093            3.618115                 3.313830   \n",
       "min          0.000000            0.000000                 0.000000   \n",
       "25%          3.000000            2.000000                 0.000000   \n",
       "50%          5.000000            3.000000                 1.000000   \n",
       "75%          9.000000            7.000000                 3.000000   \n",
       "max         37.000000           18.000000                15.000000   \n",
       "\n",
       "       YearsWithCurrManager  \n",
       "count           1100.000000  \n",
       "mean               4.123636  \n",
       "std                3.597996  \n",
       "min                0.000000  \n",
       "25%                2.000000  \n",
       "50%                3.000000  \n",
       "75%                7.000000  \n",
       "max               17.000000  \n",
       "\n",
       "[8 rows x 23 columns]"
      ]
     },
     "execution_count": 3,
     "metadata": {},
     "output_type": "execute_result"
    }
   ],
   "source": [
    "train_data.describe()"
   ]
  },
  {
   "cell_type": "markdown",
   "metadata": {},
   "source": [
    "1. StandardHours 方差是0，说明数据值全一样，drop\n",
    "2. EmployeeNumber 员工id，没有意义，drop\n",
    "3. Age 最小值18，所以Over18 可以drop"
   ]
  },
  {
   "cell_type": "code",
   "execution_count": 4,
   "metadata": {},
   "outputs": [],
   "source": [
    "train_data.drop(['Over18','StandardHours','EmployeeNumber'],axis=1,inplace=True)"
   ]
  },
  {
   "cell_type": "code",
   "execution_count": 5,
   "metadata": {},
   "outputs": [
    {
     "data": {
      "text/plain": [
       "<matplotlib.axes._subplots.AxesSubplot at 0x4fe6320>"
      ]
     },
     "execution_count": 5,
     "metadata": {},
     "output_type": "execute_result"
    },
    {
     "data": {
      "image/png": "[encoded data removed]",
      "text/plain": [
       "<Figure size 864x576 with 2 Axes>"
      ]
     },
     "metadata": {},
     "output_type": "display_data"
    }
   ],
   "source": [
    "#correlation matrix\n",
    "corrmat = train_data.corr()\n",
    "f, ax = plt.subplots(figsize=(12, 8))\n",
    "sns.heatmap(corrmat, vmax=0.8, square=True)"
   ]
  },
  {
   "cell_type": "markdown",
   "metadata": {},
   "source": [
    "JobLevel、MothlyIncome、TotalWorkingYears想关性强；\n",
    "PercentSalaryHike、PerformanceRating相关性强。\n",
    "删除JobLevel、TotalWorkingYears、PerformanceRating特征"
   ]
  },
  {
   "cell_type": "code",
   "execution_count": 6,
   "metadata": {},
   "outputs": [],
   "source": [
    "train_data.drop(['JobLevel','TotalWorkingYears','PerformanceRating'],axis=1,inplace=True)"
   ]
  },
  {
   "cell_type": "code",
   "execution_count": 7,
   "metadata": {},
   "outputs": [
    {
     "data": {
      "text/plain": [
       "Index(['Age', 'Attrition', 'BusinessTravel', 'Department', 'DistanceFromHome',\n",
       "       'Education', 'EducationField', 'EnvironmentSatisfaction', 'Gender',\n",
       "       'JobInvolvement', 'JobRole', 'JobSatisfaction', 'MaritalStatus',\n",
       "       'MonthlyIncome', 'NumCompaniesWorked', 'OverTime', 'PercentSalaryHike',\n",
       "       'RelationshipSatisfaction', 'StockOptionLevel', 'TrainingTimesLastYear',\n",
       "       'WorkLifeBalance', 'YearsAtCompany', 'YearsInCurrentRole',\n",
       "       'YearsSinceLastPromotion', 'YearsWithCurrManager'],\n",
       "      dtype='object')"
      ]
     },
     "execution_count": 7,
     "metadata": {},
     "output_type": "execute_result"
    }
   ],
   "source": [
    "train_data.columns"
   ]
  },
  {
   "cell_type": "code",
   "execution_count": 8,
   "metadata": {},
   "outputs": [
    {
     "data": {
      "image/png": "[encoded data removed]",
      "text/plain": [
       "<Figure size 1080x360 with 2 Axes>"
      ]
     },
     "metadata": {},
     "output_type": "display_data"
    }
   ],
   "source": [
    "fig, (ax1, ax2) = plt.subplots(1,2, figsize=(15,5)) \n",
    "sns.countplot(x='BusinessTravel',hue='Attrition',data=train_data, ax=ax1)\n",
    "sns.barplot(x='BusinessTravel',y='Attrition',data=train_data,capsize=.05,ax=ax2)\n",
    "#显示BusinessTravel各个类型的离职率\n",
    "plt.show()"
   ]
  },
  {
   "cell_type": "code",
   "execution_count": 9,
   "metadata": {},
   "outputs": [
    {
     "data": {
      "image/png": "[encoded data removed]",
      "text/plain": [
       "<Figure size 1080x360 with 2 Axes>"
      ]
     },
     "metadata": {},
     "output_type": "display_data"
    }
   ],
   "source": [
    "fig, (ax1, ax2) = plt.subplots(1,2, figsize=(15,5)) \n",
    "sns.countplot(x='Department',hue='Attrition',data=train_data, ax=ax1)\n",
    "sns.barplot(x='Department',y='Attrition',data=train_data,capsize=.05,ax=ax2)\n",
    "#显示Department各个类型的离职率\n",
    "plt.show()"
   ]
  },
  {
   "cell_type": "code",
   "execution_count": 10,
   "metadata": {},
   "outputs": [
    {
     "data": {
      "image/png": "[encoded data removed]",
      "text/plain": [
       "<Figure size 1080x360 with 2 Axes>"
      ]
     },
     "metadata": {},
     "output_type": "display_data"
    }
   ],
   "source": [
    "fig, (ax1, ax2) = plt.subplots(1,2, figsize=(15,5)) \n",
    "sns.countplot(x='JobSatisfaction',hue='Attrition',data=train_data, ax=ax1)\n",
    "sns.barplot(x='JobSatisfaction',y='Attrition',data=train_data,capsize=.05,ax=ax2) \n",
    "plt.show() \n",
    "#显示JobSatisfaction各个类型的离职率"
   ]
  },
  {
   "cell_type": "code",
   "execution_count": 11,
   "metadata": {},
   "outputs": [
    {
     "data": {
      "image/png": "[encoded data removed]",
      "text/plain": [
       "<Figure size 1080x360 with 2 Axes>"
      ]
     },
     "metadata": {},
     "output_type": "display_data"
    }
   ],
   "source": [
    "fig, (ax1, ax2) = plt.subplots(1,2, figsize=(15,5)) \n",
    "sns.countplot(x='Gender',hue='Attrition',data=train_data, ax=ax1)\n",
    "sns.barplot(x='Gender',y='Attrition',data=train_data,capsize=.05,ax=ax2) \n",
    "plt.show()  \n",
    "#显示Gender的离职率"
   ]
  },
  {
   "cell_type": "code",
   "execution_count": 12,
   "metadata": {},
   "outputs": [
    {
     "data": {
      "image/png": "[encoded data removed]",
      "text/plain": [
       "<Figure size 1296x360 with 2 Axes>"
      ]
     },
     "metadata": {},
     "output_type": "display_data"
    }
   ],
   "source": [
    "fig, (ax1, ax2) = plt.subplots(1,2, figsize=(18,5)) \n",
    "sns.countplot(x='EducationField',hue='Attrition',data=train_data, ax=ax1)\n",
    "sns.barplot(x='EducationField',y='Attrition',data=train_data,capsize=.05,ax=ax2) \n",
    "plt.show()   \n",
    "#显示EducationField的离职率"
   ]
  },
  {
   "cell_type": "code",
   "execution_count": 13,
   "metadata": {},
   "outputs": [
    {
     "data": {
      "image/png": "[encoded data removed]",
      "text/plain": [
       "<Figure size 1296x360 with 2 Axes>"
      ]
     },
     "metadata": {},
     "output_type": "display_data"
    }
   ],
   "source": [
    "fig, (ax1, ax2) = plt.subplots(1,2, figsize=(18,5)) \n",
    "sns.countplot(x='WorkLifeBalance',hue='Attrition',data=train_data, ax=ax1)\n",
    "sns.barplot(x='WorkLifeBalance',y='Attrition',data=train_data,capsize=.05,ax=ax2) \n",
    "plt.show()   \n",
    "#显示WorkLifeBalance的离职率"
   ]
  },
  {
   "cell_type": "code",
   "execution_count": 14,
   "metadata": {},
   "outputs": [
    {
     "data": {
      "image/png": "[encoded data removed]",
      "text/plain": [
       "<Figure size 1296x360 with 2 Axes>"
      ]
     },
     "metadata": {},
     "output_type": "display_data"
    }
   ],
   "source": [
    "fig, (ax1, ax2) = plt.subplots(1,2, figsize=(18,5)) \n",
    "sns.pointplot(x='Attrition',y='JobSatisfaction',data=train_data,hue='Gender',capsize=.1,ax=ax1)\n",
    "sns.pointplot(x='Attrition',y='JobSatisfaction',data=train_data,hue='Department',capsize=.1,ax=ax2)\n",
    "##离职和不离职的人JobSatisfaction趋势.添加了一个部门观测值 \n",
    "plt.show()    \n",
    "##离职和不离职的人JobSatisfaction趋势.添加了一个性别观测值，可以看到女性对工作满意度普遍低于男性"
   ]
  },
  {
   "cell_type": "code",
   "execution_count": 15,
   "metadata": {},
   "outputs": [
    {
     "data": {
      "text/plain": [
       "<matplotlib.axes._subplots.AxesSubplot at 0xc8385f8>"
      ]
     },
     "execution_count": 15,
     "metadata": {},
     "output_type": "execute_result"
    },
    {
     "data": {
      "image/png": "[encoded data removed]",
      "text/plain": [
       "<Figure size 432x288 with 1 Axes>"
      ]
     },
     "metadata": {},
     "output_type": "display_data"
    }
   ],
   "source": [
    "sns.pointplot(x='Attrition',y='Age',data=train_data)\n",
    "##离职和不离职的人age趋势"
   ]
  },
  {
   "cell_type": "code",
   "execution_count": 16,
   "metadata": {},
   "outputs": [],
   "source": [
    "def convertBool2Int(x):\n",
    "    if x == 'Y' or x == 'Yes'or x == 'Male':\n",
    "        return 1\n",
    "    elif x == 'N' or x == 'No'or x == 'Female':\n",
    "        return 0\n",
    "    else:\n",
    "        return 0"
   ]
  },
  {
   "cell_type": "code",
   "execution_count": 17,
   "metadata": {},
   "outputs": [],
   "source": [
    "##trans\n",
    "train_data[[ 'OverTime','Gender']] =train_data[[ 'OverTime','Gender']].applymap(str).applymap(convertBool2Int)  \n",
    "##onehot\n",
    "BusinessTravel = pd.get_dummies(train_data.BusinessTravel,prefix='bt') \n",
    "Department = pd.get_dummies(train_data.Department,prefix='d') \n",
    "EducationField = pd.get_dummies(train_data.EducationField,prefix='ef') \n",
    "JobRole= pd.get_dummies(train_data.JobRole,prefix='j') \n",
    "MaritalStatus= pd.get_dummies(train_data.MaritalStatus,prefix='ms') "
   ]
  },
  {
   "cell_type": "code",
   "execution_count": 18,
   "metadata": {},
   "outputs": [
    {
     "data": {
      "text/html": [
       "<div>\n",
       "<style scoped>\n",
       "    .dataframe tbody tr th:only-of-type {\n",
       "        vertical-align: middle;\n",
       "    }\n",
       "\n",
       "    .dataframe tbody tr th {\n",
       "        vertical-align: top;\n",
       "    }\n",
       "\n",
       "    .dataframe thead th {\n",
       "        text-align: right;\n",
       "    }\n",
       "</style>\n",
       "<table border=\"1\" class=\"dataframe\">\n",
       "  <thead>\n",
       "    <tr style=\"text-align: right;\">\n",
       "      <th></th>\n",
       "      <th>Age</th>\n",
       "      <th>DistanceFromHome</th>\n",
       "      <th>Education</th>\n",
       "      <th>EnvironmentSatisfaction</th>\n",
       "      <th>Gender</th>\n",
       "      <th>JobInvolvement</th>\n",
       "      <th>JobSatisfaction</th>\n",
       "      <th>MonthlyIncome</th>\n",
       "      <th>NumCompaniesWorked</th>\n",
       "      <th>OverTime</th>\n",
       "      <th>...</th>\n",
       "      <th>j_Laboratory Technician</th>\n",
       "      <th>j_Manager</th>\n",
       "      <th>j_Manufacturing Director</th>\n",
       "      <th>j_Research Director</th>\n",
       "      <th>j_Research Scientist</th>\n",
       "      <th>j_Sales Executive</th>\n",
       "      <th>j_Sales Representative</th>\n",
       "      <th>ms_Divorced</th>\n",
       "      <th>ms_Married</th>\n",
       "      <th>ms_Single</th>\n",
       "    </tr>\n",
       "  </thead>\n",
       "  <tbody>\n",
       "    <tr>\n",
       "      <th>0</th>\n",
       "      <td>37</td>\n",
       "      <td>1</td>\n",
       "      <td>4</td>\n",
       "      <td>1</td>\n",
       "      <td>1</td>\n",
       "      <td>2</td>\n",
       "      <td>3</td>\n",
       "      <td>5993</td>\n",
       "      <td>1</td>\n",
       "      <td>0</td>\n",
       "      <td>...</td>\n",
       "      <td>0</td>\n",
       "      <td>0</td>\n",
       "      <td>1</td>\n",
       "      <td>0</td>\n",
       "      <td>0</td>\n",
       "      <td>0</td>\n",
       "      <td>0</td>\n",
       "      <td>1</td>\n",
       "      <td>0</td>\n",
       "      <td>0</td>\n",
       "    </tr>\n",
       "    <tr>\n",
       "      <th>1</th>\n",
       "      <td>54</td>\n",
       "      <td>1</td>\n",
       "      <td>4</td>\n",
       "      <td>4</td>\n",
       "      <td>0</td>\n",
       "      <td>3</td>\n",
       "      <td>3</td>\n",
       "      <td>10502</td>\n",
       "      <td>7</td>\n",
       "      <td>0</td>\n",
       "      <td>...</td>\n",
       "      <td>0</td>\n",
       "      <td>0</td>\n",
       "      <td>1</td>\n",
       "      <td>0</td>\n",
       "      <td>0</td>\n",
       "      <td>0</td>\n",
       "      <td>0</td>\n",
       "      <td>1</td>\n",
       "      <td>0</td>\n",
       "      <td>0</td>\n",
       "    </tr>\n",
       "    <tr>\n",
       "      <th>2</th>\n",
       "      <td>34</td>\n",
       "      <td>7</td>\n",
       "      <td>3</td>\n",
       "      <td>1</td>\n",
       "      <td>1</td>\n",
       "      <td>1</td>\n",
       "      <td>3</td>\n",
       "      <td>6074</td>\n",
       "      <td>1</td>\n",
       "      <td>1</td>\n",
       "      <td>...</td>\n",
       "      <td>1</td>\n",
       "      <td>0</td>\n",
       "      <td>0</td>\n",
       "      <td>0</td>\n",
       "      <td>0</td>\n",
       "      <td>0</td>\n",
       "      <td>0</td>\n",
       "      <td>0</td>\n",
       "      <td>0</td>\n",
       "      <td>1</td>\n",
       "    </tr>\n",
       "    <tr>\n",
       "      <th>3</th>\n",
       "      <td>39</td>\n",
       "      <td>1</td>\n",
       "      <td>1</td>\n",
       "      <td>4</td>\n",
       "      <td>0</td>\n",
       "      <td>2</td>\n",
       "      <td>4</td>\n",
       "      <td>12742</td>\n",
       "      <td>1</td>\n",
       "      <td>0</td>\n",
       "      <td>...</td>\n",
       "      <td>0</td>\n",
       "      <td>0</td>\n",
       "      <td>1</td>\n",
       "      <td>0</td>\n",
       "      <td>0</td>\n",
       "      <td>0</td>\n",
       "      <td>0</td>\n",
       "      <td>0</td>\n",
       "      <td>1</td>\n",
       "      <td>0</td>\n",
       "    </tr>\n",
       "    <tr>\n",
       "      <th>4</th>\n",
       "      <td>28</td>\n",
       "      <td>1</td>\n",
       "      <td>3</td>\n",
       "      <td>1</td>\n",
       "      <td>1</td>\n",
       "      <td>2</td>\n",
       "      <td>2</td>\n",
       "      <td>2596</td>\n",
       "      <td>1</td>\n",
       "      <td>0</td>\n",
       "      <td>...</td>\n",
       "      <td>1</td>\n",
       "      <td>0</td>\n",
       "      <td>0</td>\n",
       "      <td>0</td>\n",
       "      <td>0</td>\n",
       "      <td>0</td>\n",
       "      <td>0</td>\n",
       "      <td>1</td>\n",
       "      <td>0</td>\n",
       "      <td>0</td>\n",
       "    </tr>\n",
       "  </tbody>\n",
       "</table>\n",
       "<p>5 rows × 43 columns</p>\n",
       "</div>"
      ],
      "text/plain": [
       "   Age  DistanceFromHome  Education  EnvironmentSatisfaction  Gender  \\\n",
       "0   37                 1          4                        1       1   \n",
       "1   54                 1          4                        4       0   \n",
       "2   34                 7          3                        1       1   \n",
       "3   39                 1          1                        4       0   \n",
       "4   28                 1          3                        1       1   \n",
       "\n",
       "   JobInvolvement  JobSatisfaction  MonthlyIncome  NumCompaniesWorked  \\\n",
       "0               2                3           5993                   1   \n",
       "1               3                3          10502                   7   \n",
       "2               1                3           6074                   1   \n",
       "3               2                4          12742                   1   \n",
       "4               2                2           2596                   1   \n",
       "\n",
       "   OverTime    ...      j_Laboratory Technician  j_Manager  \\\n",
       "0         0    ...                            0          0   \n",
       "1         0    ...                            0          0   \n",
       "2         1    ...                            1          0   \n",
       "3         0    ...                            0          0   \n",
       "4         0    ...                            1          0   \n",
       "\n",
       "   j_Manufacturing Director  j_Research Director  j_Research Scientist  \\\n",
       "0                         1                    0                     0   \n",
       "1                         1                    0                     0   \n",
       "2                         0                    0                     0   \n",
       "3                         1                    0                     0   \n",
       "4                         0                    0                     0   \n",
       "\n",
       "   j_Sales Executive  j_Sales Representative  ms_Divorced  ms_Married  \\\n",
       "0                  0                       0            1           0   \n",
       "1                  0                       0            1           0   \n",
       "2                  0                       0            0           0   \n",
       "3                  0                       0            0           1   \n",
       "4                  0                       0            1           0   \n",
       "\n",
       "   ms_Single  \n",
       "0          0  \n",
       "1          0  \n",
       "2          1  \n",
       "3          0  \n",
       "4          0  \n",
       "\n",
       "[5 rows x 43 columns]"
      ]
     },
     "execution_count": 18,
     "metadata": {},
     "output_type": "execute_result"
    }
   ],
   "source": [
    " \n",
    "features=['Age',  'DistanceFromHome',\n",
    "       'Education',  'EnvironmentSatisfaction', 'Gender',\n",
    "       'JobInvolvement', 'JobSatisfaction', \n",
    "       'MonthlyIncome', 'NumCompaniesWorked', 'OverTime', 'PercentSalaryHike',\n",
    "       'RelationshipSatisfaction', 'StockOptionLevel', 'TrainingTimesLastYear',\n",
    "       'WorkLifeBalance', 'YearsAtCompany', 'YearsInCurrentRole',\n",
    "       'YearsSinceLastPromotion', 'YearsWithCurrManager']\n",
    "trainData = pd.concat([train_data[features],BusinessTravel,Department, EducationField, JobRole,MaritalStatus], axis = 1)\n",
    "\n",
    "target =train_data['Attrition'] \n",
    "trainData.head()"
   ]
  },
  {
   "cell_type": "code",
   "execution_count": 19,
   "metadata": {},
   "outputs": [
    {
     "data": {
      "text/plain": [
       "Index(['Age', 'DistanceFromHome', 'Education', 'EnvironmentSatisfaction',\n",
       "       'Gender', 'JobInvolvement', 'JobSatisfaction', 'MonthlyIncome',\n",
       "       'NumCompaniesWorked', 'OverTime', 'PercentSalaryHike',\n",
       "       'RelationshipSatisfaction', 'StockOptionLevel', 'TrainingTimesLastYear',\n",
       "       'WorkLifeBalance', 'YearsAtCompany', 'YearsInCurrentRole',\n",
       "       'YearsSinceLastPromotion', 'YearsWithCurrManager', 'bt_Non-Travel',\n",
       "       'bt_Travel_Frequently', 'bt_Travel_Rarely', 'd_Human Resources',\n",
       "       'd_Research & Development', 'd_Sales', 'ef_Human Resources',\n",
       "       'ef_Life Sciences', 'ef_Marketing', 'ef_Medical', 'ef_Other',\n",
       "       'ef_Technical Degree', 'j_Healthcare Representative',\n",
       "       'j_Human Resources', 'j_Laboratory Technician', 'j_Manager',\n",
       "       'j_Manufacturing Director', 'j_Research Director',\n",
       "       'j_Research Scientist', 'j_Sales Executive', 'j_Sales Representative',\n",
       "       'ms_Divorced', 'ms_Married', 'ms_Single'],\n",
       "      dtype='object')"
      ]
     },
     "execution_count": 19,
     "metadata": {},
     "output_type": "execute_result"
    }
   ],
   "source": [
    "trainData.columns"
   ]
  },
  {
   "cell_type": "code",
   "execution_count": 20,
   "metadata": {},
   "outputs": [
    {
     "data": {
      "text/plain": [
       "Index(['Age', 'DistanceFromHome', 'Education', 'EnvironmentSatisfaction',\n",
       "       'Gender', 'JobInvolvement', 'JobSatisfaction', 'MonthlyIncome',\n",
       "       'NumCompaniesWorked', 'OverTime', 'PercentSalaryHike',\n",
       "       'RelationshipSatisfaction', 'StockOptionLevel', 'TrainingTimesLastYear',\n",
       "       'WorkLifeBalance', 'YearsAtCompany', 'YearsInCurrentRole',\n",
       "       'YearsSinceLastPromotion', 'YearsWithCurrManager', 'bt_Non-Travel',\n",
       "       'bt_Travel_Frequently', 'bt_Travel_Rarely', 'd_Human Resources',\n",
       "       'd_Research & Development', 'd_Sales', 'ef_Human Resources',\n",
       "       'ef_Life Sciences', 'ef_Marketing', 'ef_Medical', 'ef_Other',\n",
       "       'ef_Technical Degree', 'j_Healthcare Representative',\n",
       "       'j_Human Resources', 'j_Laboratory Technician', 'j_Manager',\n",
       "       'j_Manufacturing Director', 'j_Research Director',\n",
       "       'j_Research Scientist', 'j_Sales Executive', 'j_Sales Representative',\n",
       "       'ms_Divorced', 'ms_Married', 'ms_Single'],\n",
       "      dtype='object')"
      ]
     },
     "execution_count": 20,
     "metadata": {},
     "output_type": "execute_result"
    }
   ],
   "source": [
    "##trans\n",
    "test_data[['OverTime','Gender']] =test_data[['OverTime','Gender']].applymap(str).applymap(convertBool2Int)  \n",
    "test_BusinessTravel = pd.get_dummies(test_data.BusinessTravel,prefix='bt') \n",
    "test_Department = pd.get_dummies(test_data.Department,prefix='d') \n",
    "test_EducationField = pd.get_dummies(test_data.EducationField,prefix='ef') \n",
    "test_JobRole= pd.get_dummies(test_data.JobRole,prefix='j') \n",
    "test_MaritalStatus= pd.get_dummies(test_data.MaritalStatus,prefix='ms') \n",
    "testData = pd.concat([test_data[features],test_BusinessTravel,test_Department, test_EducationField,test_JobRole,test_MaritalStatus], axis = 1)\n",
    "testData.columns"
   ]
  },
  {
   "cell_type": "code",
   "execution_count": 21,
   "metadata": {},
   "outputs": [],
   "source": [
    "var =[ 'bt_Non-Travel','bt_Travel_Frequently', 'bt_Travel_Rarely', 'd_Human Resources',\n",
    "       'd_Research & Development', 'd_Sales', 'ef_Human Resources',\n",
    "       'ef_Life Sciences', 'ef_Marketing', 'ef_Medical', 'ef_Other',\n",
    "       'ef_Technical Degree', 'j_Healthcare Representative',\n",
    "       'j_Human Resources', 'j_Laboratory Technician', 'j_Manager',\n",
    "       'j_Manufacturing Director', 'j_Research Director',\n",
    "       'j_Research Scientist', 'j_Sales Executive', 'j_Sales Representative',\n",
    "       'ms_Divorced', 'ms_Married', 'ms_Single']\n",
    "trainData.drop(['bt_Travel_Rarely','d_Human Resources', 'ef_Other','j_Sales Representative','ms_Single'],axis=1,inplace=True)\n",
    "testData.drop(['bt_Travel_Rarely','d_Human Resources', 'ef_Other','j_Sales Representative','ms_Single'],axis=1,inplace=True)\n",
    "##0.905714 准确率"
   ]
  },
  {
   "cell_type": "markdown",
   "metadata": {},
   "source": [
    "# 2.归一化后用LR模型，val好于未归一化的，test为（0.888571）"
   ]
  },
  {
   "cell_type": "code",
   "execution_count": 22,
   "metadata": {},
   "outputs": [],
   "source": [
    "from sklearn.preprocessing import MinMaxScaler\n",
    "scaler = MinMaxScaler()\n",
    "scaler.fit(trainData)\n",
    "trainData_scale = scaler.transform(trainData) "
   ]
  },
  {
   "cell_type": "code",
   "execution_count": 23,
   "metadata": {},
   "outputs": [],
   "source": [
    "testData_scale = scaler.transform(testData)"
   ]
  },
  {
   "cell_type": "code",
   "execution_count": 27,
   "metadata": {},
   "outputs": [
    {
     "data": {
      "text/plain": [
       "0.8863636363636364"
      ]
     },
     "execution_count": 27,
     "metadata": {},
     "output_type": "execute_result"
    }
   ],
   "source": [
    "from sklearn.linear_model import LogisticRegression \n",
    "from sklearn.model_selection import train_test_split\n",
    "X_train,X_val,y_train,y_val =train_test_split(trainData_scale, target,test_size=0.2)\n",
    "clf_scale = LogisticRegression(random_state=0,penalty='l1' )\n",
    "# clf_scale.fit(trainData_scale, target)\n",
    "clf_scale.fit(X_train, y_train)\n",
    "clf_scale.score(X_val, y_val)"
   ]
  },
  {
   "cell_type": "code",
   "execution_count": 28,
   "metadata": {},
   "outputs": [
    {
     "name": "stdout",
     "output_type": "stream",
     "text": [
      "                                0       abs\n",
      "OverTime                 1.881539  1.881539\n",
      "Age                     -1.678629  1.678629\n",
      "YearsInCurrentRole      -1.438085  1.438085\n",
      "YearsSinceLastPromotion  1.276547  1.276547\n",
      "JobSatisfaction         -1.196782  1.196782\n"
     ]
    }
   ],
   "source": [
    "df_coef = pd.DataFrame(index=trainData.columns,data=np.transpose(clf_scale.coef_))\n",
    "df_coef['abs'] = df_coef.iloc[:,0].abs()\n",
    "df_coef = df_coef.sort_values(by='abs', ascending=False)\n",
    "print(df_coef.head(5)) "
   ]
  },
  {
   "cell_type": "code",
   "execution_count": 29,
   "metadata": {},
   "outputs": [],
   "source": [
    "y_test = clf_scale.predict(testData_scale) \n",
    "df_test = pd.DataFrame(y_test,columns=['result'])\n",
    "df_test.to_csv(\"sample_scale_drop.csv\",index=0,header=1,columns=['result'])"
   ]
  },
  {
   "cell_type": "markdown",
   "metadata": {},
   "source": [
    "# 0.RFE选择特征后用Random Forest"
   ]
  },
  {
   "cell_type": "code",
   "execution_count": 38,
   "metadata": {},
   "outputs": [],
   "source": [
    "from sklearn.preprocessing import MinMaxScaler\n",
    "scaler = MinMaxScaler()\n",
    "scaler.fit(trainData)\n",
    "trainData_scale = scaler.transform(trainData) \n",
    "testData_scale = scaler.transform(testData)"
   ]
  },
  {
   "cell_type": "code",
   "execution_count": 39,
   "metadata": {},
   "outputs": [
    {
     "name": "stdout",
     "output_type": "stream",
     "text": [
      "[ True  True False  True  True  True  True  True  True  True False  True\n",
      "  True  True  True False  True  True  True  True  True False  True  True\n",
      " False  True False  True  True  True  True False  True  True False  True\n",
      "  True  True]\n",
      "[1 1 4 1 1 1 1 1 1 1 2 1 1 1 1 8 1 1 1 1 1 6 1 1 5 1 9 1 1 1 1 3 1 1 7 1 1\n",
      " 1]\n"
     ]
    }
   ],
   "source": [
    "from sklearn.feature_selection import RFE\n",
    "from sklearn.linear_model import LogisticRegression\n",
    "model = LogisticRegression()\n",
    "rfe = RFE(model, 30)\n",
    "rfe = rfe.fit(trainData_scale, target)\n",
    "print(rfe.support_)\n",
    "print(rfe.ranking_)"
   ]
  },
  {
   "cell_type": "code",
   "execution_count": 40,
   "metadata": {},
   "outputs": [
    {
     "data": {
      "text/plain": [
       "(1100, 38)"
      ]
     },
     "execution_count": 40,
     "metadata": {},
     "output_type": "execute_result"
    }
   ],
   "source": [
    "trainData_scale.shape"
   ]
  },
  {
   "cell_type": "code",
   "execution_count": 45,
   "metadata": {},
   "outputs": [
    {
     "data": {
      "text/plain": [
       "array([[0.        , 0.75      ],\n",
       "       [0.        , 0.75      ],\n",
       "       [0.21428571, 0.5       ],\n",
       "       ...,\n",
       "       [0.53571429, 0.75      ],\n",
       "       [0.21428571, 0.        ],\n",
       "       [0.03571429, 0.5       ]])"
      ]
     },
     "execution_count": 45,
     "metadata": {},
     "output_type": "execute_result"
    }
   ],
   "source": [
    "trainData_scale[:,[1,2]] "
   ]
  },
  {
   "cell_type": "code",
   "execution_count": 35,
   "metadata": {},
   "outputs": [],
   "source": [
    "#选择rfe.support_是true的数据\n",
    "features_var =[0,1,3,4,5,6,7,8,11,12,13,14,16,17,18,19,20,22,23,25,27,28,29,30,32,33,35,36,37]"
   ]
  },
  {
   "cell_type": "code",
   "execution_count": 48,
   "metadata": {},
   "outputs": [
    {
     "name": "stdout",
     "output_type": "stream",
     "text": [
      "Random Forest Accuracy: 0.818\n"
     ]
    }
   ],
   "source": [
    "from sklearn.ensemble import RandomForestClassifier\n",
    "from sklearn.model_selection import train_test_split\n",
    "from sklearn.metrics import accuracy_score\n",
    "trainDataSe =trainData_scale[:,[0,1,3,4,5,6,7,8,11,12,13,14,16,17,18,19,20,22,23,25,27,28,29,30,32,33,35,36,37]] \n",
    "X_train,X_val,y_train,y_val =train_test_split(trainDataSe, target,test_size=0.2)\n",
    "rf = RandomForestClassifier()\n",
    "rf.fit(X_train, y_train)\n",
    "print('Random Forest Accuracy: {:.3f}'.format(accuracy_score(y_val, rf.predict(X_val))))"
   ]
  },
  {
   "cell_type": "code",
   "execution_count": 49,
   "metadata": {},
   "outputs": [],
   "source": [
    "testDataSe =testData_scale[:,[0,1,3,4,5,6,7,8,11,12,13,14,16,17,18,19,20,22,23,25,27,28,29,30,32,33,35,36,37]] \n",
    "y_test = rf.predict(testDataSe) "
   ]
  },
  {
   "cell_type": "code",
   "execution_count": 50,
   "metadata": {},
   "outputs": [],
   "source": [
    "df_test = pd.DataFrame(y_test,columns=['result'])\n",
    "df_test.to_csv(\"sample_rf.csv\",index=0,header=1,columns=['result'])"
   ]
  },
  {
   "cell_type": "markdown",
   "metadata": {},
   "source": [
    "# 1.直接LR模型,val表现不是太好，但是test为（0.874286）"
   ]
  },
  {
   "cell_type": "code",
   "execution_count": 54,
   "metadata": {},
   "outputs": [
    {
     "data": {
      "text/plain": [
       "0.8454545454545455"
      ]
     },
     "execution_count": 54,
     "metadata": {},
     "output_type": "execute_result"
    }
   ],
   "source": [
    "from sklearn.linear_model import LogisticRegression \n",
    "from sklearn.model_selection import train_test_split\n",
    "X_train,X_val,y_train,y_val =train_test_split(trainData, target,test_size=0.2)\n",
    "clf = LogisticRegression(random_state=0, solver='lbfgs' )\n",
    "clf.fit(X_train, y_train)\n",
    "clf.score(X_val, y_val)"
   ]
  },
  {
   "cell_type": "code",
   "execution_count": 55,
   "metadata": {},
   "outputs": [],
   "source": [
    "y_test = clf.predict(testData_scale) "
   ]
  },
  {
   "cell_type": "code",
   "execution_count": 56,
   "metadata": {},
   "outputs": [],
   "source": [
    "df_test = pd.DataFrame(y_test,columns=['result'])\n",
    "df_test.to_csv(\"sample_noscale.csv\",index=0,header=1,columns=['result'])"
   ]
  },
  {
   "cell_type": "markdown",
   "metadata": {},
   "source": [
    "# 3.pca降维后用LR模型，降维后没有看到变化，没提交"
   ]
  },
  {
   "cell_type": "markdown",
   "metadata": {},
   "source": [
    "1.降维效果不太好，特征数据比较分散，没有几个特征贡献率和很高的情况"
   ]
  },
  {
   "cell_type": "code",
   "execution_count": 57,
   "metadata": {},
   "outputs": [
    {
     "name": "stdout",
     "output_type": "stream",
     "text": [
      "[0.15355537 0.08639357 0.07624677 0.05935454 0.05107532 0.04948934\n",
      " 0.04497724 0.03762264 0.03604883 0.03392498 0.03264719 0.03082399\n",
      " 0.0290741  0.02514667 0.02346541 0.02206755 0.02117212 0.01979623\n",
      " 0.01947542 0.01803989 0.01577304 0.01468961 0.01341297 0.01312934\n",
      " 0.01253725 0.01220911 0.01001738 0.00782542 0.00686035 0.00602085]\n",
      "pca reserved percent= 0.9828724798388502\n",
      "train_val= 0.8545454545454545\n"
     ]
    }
   ],
   "source": [
    "from sklearn.decomposition import PCA\n",
    "pca = PCA(n_components=30)\n",
    "pca.fit(trainData_scale)\n",
    "X_pca=pca.transform(trainData_scale)\n",
    "print(pca.explained_variance_ratio_)  \n",
    "print(\"pca reserved percent=\",pca.explained_variance_ratio_.sum())  \n",
    "X_train, X_val, y_train, y_val = train_test_split(X_pca, target, test_size=0.2, random_state=42)\n",
    "reg_pca = LogisticRegression().fit(X_train, y_train) \n",
    "print(\"train_val=\",reg_pca.score(X_val,y_val) )\n"
   ]
  },
  {
   "cell_type": "code",
   "execution_count": 58,
   "metadata": {},
   "outputs": [],
   "source": [
    "X_test = testData\n",
    "X_test_pca=pca.transform(testData_scale)\n",
    "y_test=reg_pca.predict(X_test_pca) \n",
    "df = pd.DataFrame (y_test, columns = ['result'])\n",
    "df.to_csv(\"sample_pca.csv\",encoding = \"utf-8\",header=1,index=0)"
   ]
  },
  {
   "cell_type": "markdown",
   "metadata": {},
   "source": [
    "# 4.考虑gbdt进行特征选择后用LR模型"
   ]
  },
  {
   "cell_type": "code",
   "execution_count": 62,
   "metadata": {},
   "outputs": [],
   "source": [
    "from sklearn.model_selection import train_test_split\n",
    "X_train_lr, X_1, y_train_lr, y_1 = train_test_split(trainData, target, test_size=0.5, random_state=42)\n",
    "X_gbdt,X_val, y_gbdt,y_val = train_test_split(X_1, y_1, test_size=0.1, random_state=42)"
   ]
  },
  {
   "cell_type": "code",
   "execution_count": 63,
   "metadata": {},
   "outputs": [],
   "source": [
    "from sklearn.ensemble import RandomForestClassifier, GradientBoostingClassifier\n",
    "from sklearn.preprocessing import OneHotEncoder\n",
    "from sklearn.metrics import roc_curve, roc_auc_score\n",
    "from sklearn.linear_model import LogisticRegression  \n",
    "def GBDTLR():\n",
    "    GBDT = GradientBoostingClassifier(n_estimators=10)\n",
    "    GBDT.fit(X_gbdt, y_gbdt)\n",
    "    OHE = OneHotEncoder()\n",
    "    OHE.fit(GBDT.apply(X_gbdt)[:, :, 0])\n",
    "    LR = LogisticRegression()\n",
    "    LR.fit(OHE.transform(GBDT.apply(X_train_lr)[:, :, 0]), y_train_lr)\n",
    "    #test\n",
    "    X_t_trans = OHE.transform(GBDT.apply(X_val)[:, :, 0])\n",
    "    auc = LR.score(X_t_trans, y_val)\n",
    "    print('GradientBoosting + LogisticRegression: ', auc)\n",
    "    X_test_trans = OHE.transform(GBDT.apply(testData)[:, :, 0])\n",
    "    Y_test = LR.predict(X_test_trans)\n",
    "    df = pd.DataFrame (Y_test, columns = ['result'])\n",
    "    df.to_csv(\"sample_gbdtlr.csv\",encoding = \"utf-8\",header=1,index=0)\n",
    "#     return Y_test"
   ]
  },
  {
   "cell_type": "code",
   "execution_count": 64,
   "metadata": {},
   "outputs": [
    {
     "name": "stdout",
     "output_type": "stream",
     "text": [
      "GradientBoosting + LogisticRegression:  0.7636363636363637\n"
     ]
    }
   ],
   "source": [
    "GBDTLR()"
   ]
  },
  {
   "cell_type": "markdown",
   "metadata": {},
   "source": [
    "# 5.直接用xgboost"
   ]
  },
  {
   "cell_type": "code",
   "execution_count": 65,
   "metadata": {},
   "outputs": [],
   "source": [
    "from sklearn.model_selection import train_test_split\n",
    "import xgboost as xgb\n",
    "X_train, X_val, y_train, y_val = train_test_split(trainData, target, test_size=0.7, random_state=42)"
   ]
  },
  {
   "cell_type": "code",
   "execution_count": 66,
   "metadata": {},
   "outputs": [],
   "source": [
    "def XGBoostTest():\n",
    "    XGBmodel = xgb.XGBClassifier(nthread=4, learning_rate=0.08, n_estimators=100,colsample_bytree=0.85, max_depth =6)\n",
    "#     XGBmodel.fit(trainData, target)\n",
    "    XGBmodel.fit(X_train, y_train)\n",
    "#     y_pred = XGB.predict(X_val) \n",
    "    auc = XGBmodel.score(X_val,y_val)\n",
    "    print('XGBoost: ', auc) \n",
    "    Y_test = XGBmodel.predict(testData)\n",
    "    df = pd.DataFrame (Y_test, columns = ['result'])\n",
    "    df.to_csv(\"sample_xgb.csv\",encoding = \"utf-8\",header=1,index=0)"
   ]
  },
  {
   "cell_type": "code",
   "execution_count": 67,
   "metadata": {},
   "outputs": [
    {
     "name": "stdout",
     "output_type": "stream",
     "text": [
      "XGBoost:  0.8675324675324675\n"
     ]
    },
    {
     "name": "stderr",
     "output_type": "stream",
     "text": [
      "D:\\IDE\\Anaconda3\\lib\\site-packages\\sklearn\\preprocessing\\label.py:151: DeprecationWarning: The truth value of an empty array is ambiguous. Returning False, but in future this will result in an error. Use `array.size > 0` to check that an array is not empty.\n",
      "  if diff:\n",
      "D:\\IDE\\Anaconda3\\lib\\site-packages\\sklearn\\preprocessing\\label.py:151: DeprecationWarning: The truth value of an empty array is ambiguous. Returning False, but in future this will result in an error. Use `array.size > 0` to check that an array is not empty.\n",
      "  if diff:\n"
     ]
    }
   ],
   "source": [
    "XGBoostTest()"
   ]
  },
  {
   "cell_type": "code",
   "execution_count": null,
   "metadata": {},
   "outputs": [],
   "source": []
  }
 ],
 "metadata": {
  "kernelspec": {
   "display_name": "Python 3",
   "language": "python",
   "name": "python3"
  },
  "language_info": {
   "codemirror_mode": {
    "name": "ipython",
    "version": 3
   },
   "file_extension": ".py",
   "mimetype": "text/x-python",
   "name": "python",
   "nbconvert_exporter": "python",
   "pygments_lexer": "ipython3",
   "version": "3.6.5"
  }
 },
 "nbformat": 4,
 "nbformat_minor": 2
}
