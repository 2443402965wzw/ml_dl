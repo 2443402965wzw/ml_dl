{
 "cells": [
  {
   "cell_type": "code",
   "execution_count": 27,
   "metadata": {},
   "outputs": [],
   "source": [
    "import pandas as pd\n",
    "import numpy as np\n",
    "import warnings\n",
    "warnings.filterwarnings('ignore')"
   ]
  },
  {
   "cell_type": "code",
   "execution_count": 2,
   "metadata": {},
   "outputs": [
    {
     "data": {
      "text/html": [
       "<div>\n",
       "<style scoped>\n",
       "    .dataframe tbody tr th:only-of-type {\n",
       "        vertical-align: middle;\n",
       "    }\n",
       "\n",
       "    .dataframe tbody tr th {\n",
       "        vertical-align: top;\n",
       "    }\n",
       "\n",
       "    .dataframe thead th {\n",
       "        text-align: right;\n",
       "    }\n",
       "</style>\n",
       "<table border=\"1\" class=\"dataframe\">\n",
       "  <thead>\n",
       "    <tr style=\"text-align: right;\">\n",
       "      <th></th>\n",
       "      <th>Age</th>\n",
       "      <th>Attrition</th>\n",
       "      <th>BusinessTravel</th>\n",
       "      <th>Department</th>\n",
       "      <th>DistanceFromHome</th>\n",
       "      <th>Education</th>\n",
       "      <th>EducationField</th>\n",
       "      <th>EmployeeNumber</th>\n",
       "      <th>EnvironmentSatisfaction</th>\n",
       "      <th>Gender</th>\n",
       "      <th>...</th>\n",
       "      <th>RelationshipSatisfaction</th>\n",
       "      <th>StandardHours</th>\n",
       "      <th>StockOptionLevel</th>\n",
       "      <th>TotalWorkingYears</th>\n",
       "      <th>TrainingTimesLastYear</th>\n",
       "      <th>WorkLifeBalance</th>\n",
       "      <th>YearsAtCompany</th>\n",
       "      <th>YearsInCurrentRole</th>\n",
       "      <th>YearsSinceLastPromotion</th>\n",
       "      <th>YearsWithCurrManager</th>\n",
       "    </tr>\n",
       "  </thead>\n",
       "  <tbody>\n",
       "    <tr>\n",
       "      <th>0</th>\n",
       "      <td>37</td>\n",
       "      <td>0</td>\n",
       "      <td>Travel_Rarely</td>\n",
       "      <td>Research &amp; Development</td>\n",
       "      <td>1</td>\n",
       "      <td>4</td>\n",
       "      <td>Life Sciences</td>\n",
       "      <td>77</td>\n",
       "      <td>1</td>\n",
       "      <td>Male</td>\n",
       "      <td>...</td>\n",
       "      <td>3</td>\n",
       "      <td>80</td>\n",
       "      <td>1</td>\n",
       "      <td>7</td>\n",
       "      <td>2</td>\n",
       "      <td>4</td>\n",
       "      <td>7</td>\n",
       "      <td>5</td>\n",
       "      <td>0</td>\n",
       "      <td>7</td>\n",
       "    </tr>\n",
       "    <tr>\n",
       "      <th>1</th>\n",
       "      <td>54</td>\n",
       "      <td>0</td>\n",
       "      <td>Travel_Frequently</td>\n",
       "      <td>Research &amp; Development</td>\n",
       "      <td>1</td>\n",
       "      <td>4</td>\n",
       "      <td>Life Sciences</td>\n",
       "      <td>1245</td>\n",
       "      <td>4</td>\n",
       "      <td>Female</td>\n",
       "      <td>...</td>\n",
       "      <td>1</td>\n",
       "      <td>80</td>\n",
       "      <td>1</td>\n",
       "      <td>33</td>\n",
       "      <td>2</td>\n",
       "      <td>1</td>\n",
       "      <td>5</td>\n",
       "      <td>4</td>\n",
       "      <td>1</td>\n",
       "      <td>4</td>\n",
       "    </tr>\n",
       "    <tr>\n",
       "      <th>2</th>\n",
       "      <td>34</td>\n",
       "      <td>1</td>\n",
       "      <td>Travel_Frequently</td>\n",
       "      <td>Research &amp; Development</td>\n",
       "      <td>7</td>\n",
       "      <td>3</td>\n",
       "      <td>Life Sciences</td>\n",
       "      <td>147</td>\n",
       "      <td>1</td>\n",
       "      <td>Male</td>\n",
       "      <td>...</td>\n",
       "      <td>4</td>\n",
       "      <td>80</td>\n",
       "      <td>0</td>\n",
       "      <td>9</td>\n",
       "      <td>3</td>\n",
       "      <td>3</td>\n",
       "      <td>9</td>\n",
       "      <td>7</td>\n",
       "      <td>0</td>\n",
       "      <td>6</td>\n",
       "    </tr>\n",
       "    <tr>\n",
       "      <th>3</th>\n",
       "      <td>39</td>\n",
       "      <td>0</td>\n",
       "      <td>Travel_Rarely</td>\n",
       "      <td>Research &amp; Development</td>\n",
       "      <td>1</td>\n",
       "      <td>1</td>\n",
       "      <td>Life Sciences</td>\n",
       "      <td>1026</td>\n",
       "      <td>4</td>\n",
       "      <td>Female</td>\n",
       "      <td>...</td>\n",
       "      <td>3</td>\n",
       "      <td>80</td>\n",
       "      <td>1</td>\n",
       "      <td>21</td>\n",
       "      <td>3</td>\n",
       "      <td>3</td>\n",
       "      <td>21</td>\n",
       "      <td>6</td>\n",
       "      <td>11</td>\n",
       "      <td>8</td>\n",
       "    </tr>\n",
       "    <tr>\n",
       "      <th>4</th>\n",
       "      <td>28</td>\n",
       "      <td>1</td>\n",
       "      <td>Travel_Frequently</td>\n",
       "      <td>Research &amp; Development</td>\n",
       "      <td>1</td>\n",
       "      <td>3</td>\n",
       "      <td>Medical</td>\n",
       "      <td>1111</td>\n",
       "      <td>1</td>\n",
       "      <td>Male</td>\n",
       "      <td>...</td>\n",
       "      <td>1</td>\n",
       "      <td>80</td>\n",
       "      <td>2</td>\n",
       "      <td>1</td>\n",
       "      <td>2</td>\n",
       "      <td>3</td>\n",
       "      <td>1</td>\n",
       "      <td>0</td>\n",
       "      <td>0</td>\n",
       "      <td>0</td>\n",
       "    </tr>\n",
       "  </tbody>\n",
       "</table>\n",
       "<p>5 rows × 31 columns</p>\n",
       "</div>"
      ],
      "text/plain": [
       "   Age  Attrition     BusinessTravel              Department  \\\n",
       "0   37          0      Travel_Rarely  Research & Development   \n",
       "1   54          0  Travel_Frequently  Research & Development   \n",
       "2   34          1  Travel_Frequently  Research & Development   \n",
       "3   39          0      Travel_Rarely  Research & Development   \n",
       "4   28          1  Travel_Frequently  Research & Development   \n",
       "\n",
       "   DistanceFromHome  Education EducationField  EmployeeNumber  \\\n",
       "0                 1          4  Life Sciences              77   \n",
       "1                 1          4  Life Sciences            1245   \n",
       "2                 7          3  Life Sciences             147   \n",
       "3                 1          1  Life Sciences            1026   \n",
       "4                 1          3        Medical            1111   \n",
       "\n",
       "   EnvironmentSatisfaction  Gender          ...           \\\n",
       "0                        1    Male          ...            \n",
       "1                        4  Female          ...            \n",
       "2                        1    Male          ...            \n",
       "3                        4  Female          ...            \n",
       "4                        1    Male          ...            \n",
       "\n",
       "   RelationshipSatisfaction  StandardHours StockOptionLevel  \\\n",
       "0                         3             80                1   \n",
       "1                         1             80                1   \n",
       "2                         4             80                0   \n",
       "3                         3             80                1   \n",
       "4                         1             80                2   \n",
       "\n",
       "   TotalWorkingYears TrainingTimesLastYear  WorkLifeBalance  YearsAtCompany  \\\n",
       "0                  7                     2                4               7   \n",
       "1                 33                     2                1               5   \n",
       "2                  9                     3                3               9   \n",
       "3                 21                     3                3              21   \n",
       "4                  1                     2                3               1   \n",
       "\n",
       "  YearsInCurrentRole YearsSinceLastPromotion  YearsWithCurrManager  \n",
       "0                  5                       0                     7  \n",
       "1                  4                       1                     4  \n",
       "2                  7                       0                     6  \n",
       "3                  6                      11                     8  \n",
       "4                  0                       0                     0  \n",
       "\n",
       "[5 rows x 31 columns]"
      ]
     },
     "execution_count": 2,
     "metadata": {},
     "output_type": "execute_result"
    }
   ],
   "source": [
    "train_data =pd.read_csv('pfm_train.csv')\n",
    "test_data =pd.read_csv('pfm_test.csv')\n",
    "train_data.head()"
   ]
  },
  {
   "cell_type": "code",
   "execution_count": 3,
   "metadata": {},
   "outputs": [
    {
     "data": {
      "text/html": [
       "<div>\n",
       "<style scoped>\n",
       "    .dataframe tbody tr th:only-of-type {\n",
       "        vertical-align: middle;\n",
       "    }\n",
       "\n",
       "    .dataframe tbody tr th {\n",
       "        vertical-align: top;\n",
       "    }\n",
       "\n",
       "    .dataframe thead th {\n",
       "        text-align: right;\n",
       "    }\n",
       "</style>\n",
       "<table border=\"1\" class=\"dataframe\">\n",
       "  <thead>\n",
       "    <tr style=\"text-align: right;\">\n",
       "      <th></th>\n",
       "      <th>Over18</th>\n",
       "      <th>OverTime</th>\n",
       "      <th>Gender</th>\n",
       "    </tr>\n",
       "  </thead>\n",
       "  <tbody>\n",
       "    <tr>\n",
       "      <th>1</th>\n",
       "      <td>Y</td>\n",
       "      <td>No</td>\n",
       "      <td>Female</td>\n",
       "    </tr>\n",
       "    <tr>\n",
       "      <th>2</th>\n",
       "      <td>Y</td>\n",
       "      <td>Yes</td>\n",
       "      <td>Male</td>\n",
       "    </tr>\n",
       "    <tr>\n",
       "      <th>3</th>\n",
       "      <td>Y</td>\n",
       "      <td>No</td>\n",
       "      <td>Female</td>\n",
       "    </tr>\n",
       "    <tr>\n",
       "      <th>4</th>\n",
       "      <td>Y</td>\n",
       "      <td>No</td>\n",
       "      <td>Male</td>\n",
       "    </tr>\n",
       "  </tbody>\n",
       "</table>\n",
       "</div>"
      ],
      "text/plain": [
       "  Over18 OverTime  Gender\n",
       "1      Y       No  Female\n",
       "2      Y      Yes    Male\n",
       "3      Y       No  Female\n",
       "4      Y       No    Male"
      ]
     },
     "execution_count": 3,
     "metadata": {},
     "output_type": "execute_result"
    }
   ],
   "source": [
    "train_data[['Over18','OverTime','Gender']][1:5]"
   ]
  },
  {
   "cell_type": "code",
   "execution_count": 4,
   "metadata": {},
   "outputs": [],
   "source": [
    "def convertBool2Int(x):\n",
    "    if x == 'Y' or x == 'Yes'or x == 'Male':\n",
    "        return 1\n",
    "    elif x == 'N' or x == 'No'or x == 'Female':\n",
    "        return 0\n",
    "    else:\n",
    "        return 0"
   ]
  },
  {
   "cell_type": "code",
   "execution_count": 5,
   "metadata": {},
   "outputs": [],
   "source": [
    "##trans\n",
    "train_data[['Over18','OverTime','Gender']] =train_data[['Over18','OverTime','Gender']].applymap(str).applymap(convertBool2Int)  \n",
    "##onehot\n",
    "BusinessTravel = pd.get_dummies(train_data.BusinessTravel,prefix='bt') \n",
    "Department = pd.get_dummies(train_data.Department,prefix='d') \n",
    "EducationField = pd.get_dummies(train_data.EducationField,prefix='ef') \n",
    "JobRole= pd.get_dummies(train_data.JobRole,prefix='j') \n",
    "MaritalStatus= pd.get_dummies(train_data.MaritalStatus,prefix='ms') "
   ]
  },
  {
   "cell_type": "code",
   "execution_count": 6,
   "metadata": {},
   "outputs": [
    {
     "data": {
      "text/html": [
       "<div>\n",
       "<style scoped>\n",
       "    .dataframe tbody tr th:only-of-type {\n",
       "        vertical-align: middle;\n",
       "    }\n",
       "\n",
       "    .dataframe tbody tr th {\n",
       "        vertical-align: top;\n",
       "    }\n",
       "\n",
       "    .dataframe thead th {\n",
       "        text-align: right;\n",
       "    }\n",
       "</style>\n",
       "<table border=\"1\" class=\"dataframe\">\n",
       "  <thead>\n",
       "    <tr style=\"text-align: right;\">\n",
       "      <th></th>\n",
       "      <th>Age</th>\n",
       "      <th>DistanceFromHome</th>\n",
       "      <th>Education</th>\n",
       "      <th>EnvironmentSatisfaction</th>\n",
       "      <th>JobInvolvement</th>\n",
       "      <th>JobLevel</th>\n",
       "      <th>JobSatisfaction</th>\n",
       "      <th>MonthlyIncome</th>\n",
       "      <th>Gender</th>\n",
       "      <th>NumCompaniesWorked</th>\n",
       "      <th>...</th>\n",
       "      <th>j_Laboratory Technician</th>\n",
       "      <th>j_Manager</th>\n",
       "      <th>j_Manufacturing Director</th>\n",
       "      <th>j_Research Director</th>\n",
       "      <th>j_Research Scientist</th>\n",
       "      <th>j_Sales Executive</th>\n",
       "      <th>j_Sales Representative</th>\n",
       "      <th>ms_Divorced</th>\n",
       "      <th>ms_Married</th>\n",
       "      <th>ms_Single</th>\n",
       "    </tr>\n",
       "  </thead>\n",
       "  <tbody>\n",
       "    <tr>\n",
       "      <th>0</th>\n",
       "      <td>37</td>\n",
       "      <td>1</td>\n",
       "      <td>4</td>\n",
       "      <td>1</td>\n",
       "      <td>2</td>\n",
       "      <td>2</td>\n",
       "      <td>3</td>\n",
       "      <td>5993</td>\n",
       "      <td>1</td>\n",
       "      <td>1</td>\n",
       "      <td>...</td>\n",
       "      <td>0</td>\n",
       "      <td>0</td>\n",
       "      <td>1</td>\n",
       "      <td>0</td>\n",
       "      <td>0</td>\n",
       "      <td>0</td>\n",
       "      <td>0</td>\n",
       "      <td>1</td>\n",
       "      <td>0</td>\n",
       "      <td>0</td>\n",
       "    </tr>\n",
       "    <tr>\n",
       "      <th>1</th>\n",
       "      <td>54</td>\n",
       "      <td>1</td>\n",
       "      <td>4</td>\n",
       "      <td>4</td>\n",
       "      <td>3</td>\n",
       "      <td>3</td>\n",
       "      <td>3</td>\n",
       "      <td>10502</td>\n",
       "      <td>0</td>\n",
       "      <td>7</td>\n",
       "      <td>...</td>\n",
       "      <td>0</td>\n",
       "      <td>0</td>\n",
       "      <td>1</td>\n",
       "      <td>0</td>\n",
       "      <td>0</td>\n",
       "      <td>0</td>\n",
       "      <td>0</td>\n",
       "      <td>1</td>\n",
       "      <td>0</td>\n",
       "      <td>0</td>\n",
       "    </tr>\n",
       "    <tr>\n",
       "      <th>2</th>\n",
       "      <td>34</td>\n",
       "      <td>7</td>\n",
       "      <td>3</td>\n",
       "      <td>1</td>\n",
       "      <td>1</td>\n",
       "      <td>2</td>\n",
       "      <td>3</td>\n",
       "      <td>6074</td>\n",
       "      <td>1</td>\n",
       "      <td>1</td>\n",
       "      <td>...</td>\n",
       "      <td>1</td>\n",
       "      <td>0</td>\n",
       "      <td>0</td>\n",
       "      <td>0</td>\n",
       "      <td>0</td>\n",
       "      <td>0</td>\n",
       "      <td>0</td>\n",
       "      <td>0</td>\n",
       "      <td>0</td>\n",
       "      <td>1</td>\n",
       "    </tr>\n",
       "    <tr>\n",
       "      <th>3</th>\n",
       "      <td>39</td>\n",
       "      <td>1</td>\n",
       "      <td>1</td>\n",
       "      <td>4</td>\n",
       "      <td>2</td>\n",
       "      <td>4</td>\n",
       "      <td>4</td>\n",
       "      <td>12742</td>\n",
       "      <td>0</td>\n",
       "      <td>1</td>\n",
       "      <td>...</td>\n",
       "      <td>0</td>\n",
       "      <td>0</td>\n",
       "      <td>1</td>\n",
       "      <td>0</td>\n",
       "      <td>0</td>\n",
       "      <td>0</td>\n",
       "      <td>0</td>\n",
       "      <td>0</td>\n",
       "      <td>1</td>\n",
       "      <td>0</td>\n",
       "    </tr>\n",
       "    <tr>\n",
       "      <th>4</th>\n",
       "      <td>28</td>\n",
       "      <td>1</td>\n",
       "      <td>3</td>\n",
       "      <td>1</td>\n",
       "      <td>2</td>\n",
       "      <td>1</td>\n",
       "      <td>2</td>\n",
       "      <td>2596</td>\n",
       "      <td>1</td>\n",
       "      <td>1</td>\n",
       "      <td>...</td>\n",
       "      <td>1</td>\n",
       "      <td>0</td>\n",
       "      <td>0</td>\n",
       "      <td>0</td>\n",
       "      <td>0</td>\n",
       "      <td>0</td>\n",
       "      <td>0</td>\n",
       "      <td>1</td>\n",
       "      <td>0</td>\n",
       "      <td>0</td>\n",
       "    </tr>\n",
       "  </tbody>\n",
       "</table>\n",
       "<p>5 rows × 48 columns</p>\n",
       "</div>"
      ],
      "text/plain": [
       "   Age  DistanceFromHome  Education  EnvironmentSatisfaction  JobInvolvement  \\\n",
       "0   37                 1          4                        1               2   \n",
       "1   54                 1          4                        4               3   \n",
       "2   34                 7          3                        1               1   \n",
       "3   39                 1          1                        4               2   \n",
       "4   28                 1          3                        1               2   \n",
       "\n",
       "   JobLevel  JobSatisfaction  MonthlyIncome  Gender  NumCompaniesWorked  \\\n",
       "0         2                3           5993       1                   1   \n",
       "1         3                3          10502       0                   7   \n",
       "2         2                3           6074       1                   1   \n",
       "3         4                4          12742       0                   1   \n",
       "4         1                2           2596       1                   1   \n",
       "\n",
       "     ...      j_Laboratory Technician  j_Manager  j_Manufacturing Director  \\\n",
       "0    ...                            0          0                         1   \n",
       "1    ...                            0          0                         1   \n",
       "2    ...                            1          0                         0   \n",
       "3    ...                            0          0                         1   \n",
       "4    ...                            1          0                         0   \n",
       "\n",
       "   j_Research Director  j_Research Scientist  j_Sales Executive  \\\n",
       "0                    0                     0                  0   \n",
       "1                    0                     0                  0   \n",
       "2                    0                     0                  0   \n",
       "3                    0                     0                  0   \n",
       "4                    0                     0                  0   \n",
       "\n",
       "   j_Sales Representative  ms_Divorced  ms_Married  ms_Single  \n",
       "0                       0            1           0          0  \n",
       "1                       0            1           0          0  \n",
       "2                       0            0           0          1  \n",
       "3                       0            0           1          0  \n",
       "4                       0            1           0          0  \n",
       "\n",
       "[5 rows x 48 columns]"
      ]
     },
     "execution_count": 6,
     "metadata": {},
     "output_type": "execute_result"
    }
   ],
   "source": [
    " \n",
    "features=['Age',  'DistanceFromHome',  'Education', \n",
    "       'EnvironmentSatisfaction',  'JobInvolvement', 'JobLevel',\n",
    "        'JobSatisfaction',  'MonthlyIncome','Gender',\n",
    "       'NumCompaniesWorked', 'Over18','OverTime',  'PercentSalaryHike',\n",
    "       'PerformanceRating', 'RelationshipSatisfaction', 'StandardHours',\n",
    "       'StockOptionLevel', 'TotalWorkingYears', 'TrainingTimesLastYear',\n",
    "       'WorkLifeBalance', 'YearsAtCompany', 'YearsInCurrentRole',\n",
    "       'YearsSinceLastPromotion', 'YearsWithCurrManager']\n",
    "trainData = pd.concat([train_data[features],BusinessTravel,Department, EducationField, JobRole,MaritalStatus], axis = 1)\n",
    "\n",
    "target =train_data['Attrition'] \n",
    "trainData.head()"
   ]
  },
  {
   "cell_type": "code",
   "execution_count": 7,
   "metadata": {},
   "outputs": [
    {
     "data": {
      "text/plain": [
       "Index(['Age', 'DistanceFromHome', 'Education', 'EnvironmentSatisfaction',\n",
       "       'JobInvolvement', 'JobLevel', 'JobSatisfaction', 'MonthlyIncome',\n",
       "       'Gender', 'NumCompaniesWorked', 'Over18', 'OverTime',\n",
       "       'PercentSalaryHike', 'PerformanceRating', 'RelationshipSatisfaction',\n",
       "       'StandardHours', 'StockOptionLevel', 'TotalWorkingYears',\n",
       "       'TrainingTimesLastYear', 'WorkLifeBalance', 'YearsAtCompany',\n",
       "       'YearsInCurrentRole', 'YearsSinceLastPromotion', 'YearsWithCurrManager',\n",
       "       'bt_Non-Travel', 'bt_Travel_Frequently', 'bt_Travel_Rarely',\n",
       "       'd_Human Resources', 'd_Research & Development', 'd_Sales',\n",
       "       'ef_Human Resources', 'ef_Life Sciences', 'ef_Marketing', 'ef_Medical',\n",
       "       'ef_Other', 'ef_Technical Degree', 'j_Healthcare Representative',\n",
       "       'j_Human Resources', 'j_Laboratory Technician', 'j_Manager',\n",
       "       'j_Manufacturing Director', 'j_Research Director',\n",
       "       'j_Research Scientist', 'j_Sales Executive', 'j_Sales Representative',\n",
       "       'ms_Divorced', 'ms_Married', 'ms_Single'],\n",
       "      dtype='object')"
      ]
     },
     "execution_count": 7,
     "metadata": {},
     "output_type": "execute_result"
    }
   ],
   "source": [
    "trainData.columns"
   ]
  },
  {
   "cell_type": "code",
   "execution_count": 8,
   "metadata": {},
   "outputs": [
    {
     "data": {
      "text/plain": [
       "Attrition\n",
       "0    922\n",
       "1    178\n",
       "Name: Attrition, dtype: int64"
      ]
     },
     "execution_count": 8,
     "metadata": {},
     "output_type": "execute_result"
    }
   ],
   "source": [
    "tt = train_data.groupby('Attrition')['Attrition'].count()\n",
    "tt"
   ]
  },
  {
   "cell_type": "code",
   "execution_count": 9,
   "metadata": {},
   "outputs": [
    {
     "data": {
      "text/plain": [
       "Index(['Age', 'DistanceFromHome', 'Education', 'EnvironmentSatisfaction',\n",
       "       'JobInvolvement', 'JobLevel', 'JobSatisfaction', 'MonthlyIncome',\n",
       "       'Gender', 'NumCompaniesWorked', 'Over18', 'OverTime',\n",
       "       'PercentSalaryHike', 'PerformanceRating', 'RelationshipSatisfaction',\n",
       "       'StandardHours', 'StockOptionLevel', 'TotalWorkingYears',\n",
       "       'TrainingTimesLastYear', 'WorkLifeBalance', 'YearsAtCompany',\n",
       "       'YearsInCurrentRole', 'YearsSinceLastPromotion', 'YearsWithCurrManager',\n",
       "       'bt_Non-Travel', 'bt_Travel_Frequently', 'bt_Travel_Rarely',\n",
       "       'd_Human Resources', 'd_Research & Development', 'd_Sales',\n",
       "       'ef_Human Resources', 'ef_Life Sciences', 'ef_Marketing', 'ef_Medical',\n",
       "       'ef_Other', 'ef_Technical Degree', 'j_Healthcare Representative',\n",
       "       'j_Human Resources', 'j_Laboratory Technician', 'j_Manager',\n",
       "       'j_Manufacturing Director', 'j_Research Director',\n",
       "       'j_Research Scientist', 'j_Sales Executive', 'j_Sales Representative',\n",
       "       'ms_Divorced', 'ms_Married', 'ms_Single'],\n",
       "      dtype='object')"
      ]
     },
     "execution_count": 9,
     "metadata": {},
     "output_type": "execute_result"
    }
   ],
   "source": [
    "##trans\n",
    "test_data[['Over18','OverTime','Gender']] =test_data[['Over18','OverTime','Gender']].applymap(str).applymap(convertBool2Int)  \n",
    "test_BusinessTravel = pd.get_dummies(test_data.BusinessTravel,prefix='bt') \n",
    "test_Department = pd.get_dummies(test_data.Department,prefix='d') \n",
    "test_EducationField = pd.get_dummies(test_data.EducationField,prefix='ef') \n",
    "test_JobRole= pd.get_dummies(test_data.JobRole,prefix='j') \n",
    "test_MaritalStatus= pd.get_dummies(test_data.MaritalStatus,prefix='ms') \n",
    "testData = pd.concat([test_data[features],test_BusinessTravel,test_Department, test_EducationField,test_JobRole,test_MaritalStatus], axis = 1)\n",
    "testData.columns"
   ]
  },
  {
   "cell_type": "markdown",
   "metadata": {},
   "source": [
    "# 1.直接LR模型,val表现不是太好，但是test为（0.874286）"
   ]
  },
  {
   "cell_type": "code",
   "execution_count": 10,
   "metadata": {},
   "outputs": [
    {
     "data": {
      "text/plain": [
       "0.8613636363636363"
      ]
     },
     "execution_count": 10,
     "metadata": {},
     "output_type": "execute_result"
    }
   ],
   "source": [
    "from sklearn.linear_model import LogisticRegression \n",
    "from sklearn.model_selection import train_test_split\n",
    "X_train,X_val,y_train,y_val =train_test_split(trainData, target,test_size=0.2)\n",
    "clf = LogisticRegression(random_state=0, solver='lbfgs' ).fit(X_train, y_train)\n",
    "clf.score(X_train, y_train)"
   ]
  },
  {
   "cell_type": "code",
   "execution_count": 11,
   "metadata": {},
   "outputs": [],
   "source": [
    "y_test = clf.predict(testData) "
   ]
  },
  {
   "cell_type": "code",
   "execution_count": 12,
   "metadata": {},
   "outputs": [],
   "source": [
    "df_test = pd.DataFrame(y_test,columns=['result'])\n",
    "df_test.to_csv(\"sample_noscale.csv\",index=0,header=1,columns=['result'])"
   ]
  },
  {
   "cell_type": "markdown",
   "metadata": {},
   "source": [
    "# 2.归一化后用LR模型，val好于未归一化的，test为（0.888571）"
   ]
  },
  {
   "cell_type": "code",
   "execution_count": 14,
   "metadata": {},
   "outputs": [],
   "source": [
    "from sklearn.preprocessing import MinMaxScaler\n",
    "scaler = MinMaxScaler()\n",
    "scaler.fit(trainData)\n",
    "trainData_scale = scaler.transform(trainData) "
   ]
  },
  {
   "cell_type": "code",
   "execution_count": 15,
   "metadata": {},
   "outputs": [],
   "source": [
    "testData_scale = scaler.transform(testData)"
   ]
  },
  {
   "cell_type": "code",
   "execution_count": 16,
   "metadata": {},
   "outputs": [
    {
     "data": {
      "text/plain": [
       "0.8965909090909091"
      ]
     },
     "execution_count": 16,
     "metadata": {},
     "output_type": "execute_result"
    }
   ],
   "source": [
    "from sklearn.linear_model import LogisticRegression \n",
    "from sklearn.model_selection import train_test_split\n",
    "X_train,X_val,y_train,y_val =train_test_split(trainData_scale, target,test_size=0.2)\n",
    "clf_scale = LogisticRegression(random_state=0, solver='lbfgs' ).fit(X_train, y_train)\n",
    "clf_scale.score(X_train, y_train)"
   ]
  },
  {
   "cell_type": "code",
   "execution_count": 17,
   "metadata": {},
   "outputs": [],
   "source": [
    "y_test = clf_scale.predict(testData_scale) \n",
    "df_test = pd.DataFrame(y_test,columns=['result'])\n",
    "df_test.to_csv(\"sample_scale.csv\",index=0,header=1,columns=['result'])"
   ]
  },
  {
   "cell_type": "markdown",
   "metadata": {},
   "source": [
    "# 3.pca降维后用LR模型，降维后没有看到变化，没提交"
   ]
  },
  {
   "cell_type": "code",
   "execution_count": 13,
   "metadata": {},
   "outputs": [
    {
     "name": "stdout",
     "output_type": "stream",
     "text": [
      "[9.99989015e-01 3.37642346e-06 3.00666036e-06 2.09685862e-06\n",
      " 5.91808989e-07 5.31893434e-07 2.74687953e-07 2.39357978e-07\n",
      " 1.83652497e-07 1.66082687e-07 7.49781510e-08 5.70802777e-08\n",
      " 5.44295691e-08 5.17700172e-08 4.45108980e-08 3.94262822e-08\n",
      " 2.86688142e-08 2.21090279e-08 2.12491522e-08 1.58659743e-08\n",
      " 1.55118295e-08 1.35663286e-08 1.07964892e-08 8.93961914e-09\n",
      " 8.25759071e-09 6.47747395e-09 6.05013333e-09 5.55258734e-09\n",
      " 5.27935066e-09 4.55517992e-09]\n",
      "pca reserved percent= 0.9999999773676153\n",
      "train_val= 0.8590909090909091\n"
     ]
    }
   ],
   "source": [
    "from sklearn.decomposition import PCA\n",
    "pca = PCA(n_components=30)\n",
    "pca.fit(trainData)\n",
    "X_pca=pca.transform(trainData)\n",
    "print(pca.explained_variance_ratio_)  \n",
    "print(\"pca reserved percent=\",pca.explained_variance_ratio_.sum())  \n",
    "X_train, X_val, y_train, y_val = train_test_split(X_pca, target, test_size=0.2, random_state=42)\n",
    "reg_pca = LogisticRegression().fit(X_train, y_train) \n",
    "print(\"train_val=\",reg_pca.score(X_val,y_val) )\n"
   ]
  },
  {
   "cell_type": "code",
   "execution_count": 18,
   "metadata": {},
   "outputs": [],
   "source": [
    "X_test = testData\n",
    "X_test_pca=pca.transform(X_test)\n",
    "y_test=reg_pca.predict(X_test_pca) \n",
    "df = pd.DataFrame (y_test, columns = ['result'])\n",
    "df.to_csv(\"sample_pca.csv\",encoding = \"utf-8\",header=1,index=0)"
   ]
  },
  {
   "cell_type": "markdown",
   "metadata": {},
   "source": [
    "# 4.考虑gbdt进行特征选择后用LR模型"
   ]
  },
  {
   "cell_type": "code",
   "execution_count": 19,
   "metadata": {},
   "outputs": [],
   "source": [
    "from sklearn.model_selection import train_test_split\n",
    "X_train_lr, X_t, y_train_lr, y_t = train_test_split(trainData, target, test_size=0.2, random_state=42)"
   ]
  },
  {
   "cell_type": "code",
   "execution_count": 20,
   "metadata": {},
   "outputs": [],
   "source": [
    "from sklearn.ensemble import RandomForestClassifier, GradientBoostingClassifier\n",
    "from sklearn.preprocessing import OneHotEncoder\n",
    "from sklearn.metrics import roc_curve, roc_auc_score\n",
    "from sklearn.linear_model import LogisticRegression  \n",
    "def GBDTLR():\n",
    "    GBDT = GradientBoostingClassifier(n_estimators=10)\n",
    "    GBDT.fit(X_train_lr, y_train_lr)\n",
    "    OHE = OneHotEncoder()\n",
    "    OHE.fit(GBDT.apply(X_train_lr)[:, :, 0])\n",
    "    LR = LogisticRegression()\n",
    "    LR.fit(OHE.transform(GBDT.apply(X_train_lr)[:, :, 0]), y_train_lr)\n",
    "    #test\n",
    "    X_t_trans = OHE.transform(GBDT.apply(X_t)[:, :, 0])\n",
    "    auc = LR.score(X_t_trans, y_t)\n",
    "    print('GradientBoosting + LogisticRegression: ', auc)\n",
    "    X_test_trans = OHE.transform(GBDT.apply(testData)[:, :, 0])\n",
    "    Y_test = LR.predict(X_test_trans)\n",
    "    df = pd.DataFrame (Y_test, columns = ['result'])\n",
    "    df.to_csv(\"sample_gbdtlr.csv\",encoding = \"utf-8\",header=1,index=0)\n",
    "#     return Y_test"
   ]
  },
  {
   "cell_type": "code",
   "execution_count": 21,
   "metadata": {},
   "outputs": [
    {
     "name": "stdout",
     "output_type": "stream",
     "text": [
      "GradientBoosting + LogisticRegression:  0.8181818181818182\n"
     ]
    }
   ],
   "source": [
    "GBDTLR()"
   ]
  },
  {
   "cell_type": "markdown",
   "metadata": {},
   "source": [
    "# 5.直接用xgboost"
   ]
  },
  {
   "cell_type": "code",
   "execution_count": 32,
   "metadata": {},
   "outputs": [],
   "source": [
    "from sklearn.model_selection import train_test_split\n",
    "import xgboost as xgb\n",
    "X_train, X_val, y_train, y_val = train_test_split(trainData, target, test_size=0.7, random_state=42)"
   ]
  },
  {
   "cell_type": "code",
   "execution_count": 33,
   "metadata": {},
   "outputs": [],
   "source": [
    "def XGBoostTest():\n",
    "    XGBmodel = xgb.XGBClassifier(nthread=4, learning_rate=0.08, n_estimators=100,colsample_bytree=0.85, max_depth =6)\n",
    "#     XGBmodel.fit(trainData, target)\n",
    "    XGBmodel.fit(X_train, y_train)\n",
    "#     y_pred = XGB.predict(X_val) \n",
    "    auc = XGBmodel.score(X_val,y_val)\n",
    "    print('XGBoost: ', auc) \n",
    "    Y_test = XGBmodel.predict(testData)\n",
    "    df = pd.DataFrame (Y_test, columns = ['result'])\n",
    "    df.to_csv(\"sample_xgb.csv\",encoding = \"utf-8\",header=1,index=0)"
   ]
  },
  {
   "cell_type": "code",
   "execution_count": 34,
   "metadata": {},
   "outputs": [
    {
     "name": "stdout",
     "output_type": "stream",
     "text": [
      "XGBoost:  0.8532467532467533\n"
     ]
    }
   ],
   "source": [
    "XGBoostTest()"
   ]
  },
  {
   "cell_type": "code",
   "execution_count": null,
   "metadata": {},
   "outputs": [],
   "source": []
  }
 ],
 "metadata": {
  "kernelspec": {
   "display_name": "Python 3",
   "language": "python",
   "name": "python3"
  },
  "language_info": {
   "codemirror_mode": {
    "name": "ipython",
    "version": 3
   },
   "file_extension": ".py",
   "mimetype": "text/x-python",
   "name": "python",
   "nbconvert_exporter": "python",
   "pygments_lexer": "ipython3",
   "version": "3.6.5"
  }
 },
 "nbformat": 4,
 "nbformat_minor": 2
}
